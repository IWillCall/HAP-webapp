{
 "cells": [
  {
   "cell_type": "code",
   "execution_count": null,
   "metadata": {},
   "outputs": [
    {
     "name": "stdout",
     "output_type": "stream",
     "text": [
      "Знайшли блок з результатом!\n"
     ]
    }
   ],
   "source": [
    "import time\n",
    "import random\n",
    "from selenium import webdriver\n",
    "from selenium.webdriver.common.by import By\n",
    "from selenium.webdriver.support.ui import WebDriverWait\n",
    "from selenium.webdriver.support import expected_conditions as EC\n",
    "\n",
    "def random_number_for_field(field_id):\n",
    "    if field_id == \"HeightInMeters\":\n",
    "        return round(random.uniform(1.3, 2.2), 2)\n",
    "    elif field_id == \"WeightInKilograms\":\n",
    "        return random.randint(50, 120)\n",
    "    elif field_id == \"SleepHours\":\n",
    "        return random.randint(4, 10)\n",
    "    elif field_id == \"MentalHealthDays\":\n",
    "        return random.randint(0, 31)\n",
    "    else:\n",
    "        return random.randint(1, 10)  # з\n",
    "\n",
    "def main():\n",
    "    driver = webdriver.Chrome()\n",
    "\n",
    "    try:\n",
    "        url = \"http://127.0.0.1:8200\"  \n",
    "        driver.get(url)\n",
    "\n",
    "        time.sleep(2)\n",
    "\n",
    "        form_inputs  = driver.find_elements(By.TAG_NAME, \"input\")\n",
    "        form_selects = driver.find_elements(By.TAG_NAME, \"select\")\n",
    "\n",
    "        for inp in form_inputs:\n",
    "            input_type = inp.get_attribute(\"type\")\n",
    "            field_id = inp.get_attribute(\"id\") \n",
    "\n",
    "            if input_type == \"number\":\n",
    "                val = random_number_for_field(field_id)\n",
    "                inp.clear()\n",
    "                inp.send_keys(str(val))\n",
    "\n",
    "            elif input_type == \"checkbox\":\n",
    "                is_checked = inp.is_selected()\n",
    "                want_to_check = random.choice([True, False])\n",
    "                if is_checked != want_to_check:\n",
    "                    inp.click()\n",
    "\n",
    "\n",
    "        for sel in form_selects:\n",
    "            options = sel.find_elements(By.TAG_NAME, \"option\")\n",
    "            if len(options) > 1:\n",
    "                chosen_option = random.choice(options[1:]) \n",
    "                chosen_option.click()\n",
    "\n",
    "        submit_button = driver.find_element(By.XPATH, \"//button[@type='submit']\")\n",
    "        submit_button.click()\n",
    "\n",
    "        try:\n",
    "            wait = WebDriverWait(driver, 10)\n",
    "            result_block = wait.until(\n",
    "                EC.presence_of_element_located((By.CLASS_NAME, \"result-block\"))\n",
    "            )\n",
    "            print(\"Знайшли блок з результатом\")\n",
    "        except:\n",
    "            print(\"Не дочекалися результату\")\n",
    "        \n",
    "        time.sleep(5)\n",
    "\n",
    "    finally:\n",
    "        driver.quit()\n",
    "\n",
    "if __name__ == \"__main__\":\n",
    "    main()\n"
   ]
  }
 ],
 "metadata": {
  "kernelspec": {
   "display_name": ".venv",
   "language": "python",
   "name": "python3"
  },
  "language_info": {
   "codemirror_mode": {
    "name": "ipython",
    "version": 3
   },
   "file_extension": ".py",
   "mimetype": "text/x-python",
   "name": "python",
   "nbconvert_exporter": "python",
   "pygments_lexer": "ipython3",
   "version": "3.11.9"
  }
 },
 "nbformat": 4,
 "nbformat_minor": 2
}
